{
  "nbformat": 4,
  "nbformat_minor": 0,
  "metadata": {
    "colab": {
      "name": "Vine_Review_Analysis.sql",
      "provenance": [],
      "collapsed_sections": []
    },
    "kernelspec": {
      "name": "python3",
      "display_name": "Python 3"
    },
    "language_info": {
      "name": "python"
    }
  },
  "cells": [
    {
      "cell_type": "code",
      "metadata": {
        "id": "V58rxea0HqSa",
        "colab": {
          "base_uri": "https://localhost:8080/"
        },
        "outputId": "382dcef7-517b-42cf-a4cc-6e786b6a73ab"
      },
      "source": [
        "import os\n",
        "# Find the latest version of spark 3.0 from http://www.apache.org/dist/spark/ and enter as the spark version\n",
        "# For example:\n",
        "# spark_version = 'spark-3.2.0'\n",
        "spark_version = 'spark-3.2.0'\n",
        "os.environ['SPARK_VERSION']=spark_version\n",
        "\n",
        "# Install Spark and Java\n",
        "!apt-get update\n",
        "!apt-get install openjdk-11-jdk-headless -qq > /dev/null\n",
        "!wget -q http://www.apache.org/dist/spark/$SPARK_VERSION/$SPARK_VERSION-bin-hadoop2.7.tgz\n",
        "!tar xf $SPARK_VERSION-bin-hadoop2.7.tgz\n",
        "!pip install -q findspark\n",
        "\n",
        "# Set Environment Variables\n",
        "import os\n",
        "os.environ[\"JAVA_HOME\"] = \"/usr/lib/jvm/java-11-openjdk-amd64\"\n",
        "os.environ[\"SPARK_HOME\"] = f\"/content/{spark_version}-bin-hadoop2.7\"\n",
        "\n",
        "# Start a SparkSession\n",
        "import findspark\n",
        "findspark.init()"
      ],
      "execution_count": 1,
      "outputs": [
        {
          "output_type": "stream",
          "name": "stdout",
          "text": [
            "\r0% [Working]\r            \rGet:1 https://cloud.r-project.org/bin/linux/ubuntu bionic-cran40/ InRelease [3,626 B]\n",
            "\r0% [Waiting for headers] [Waiting for headers] [1 InRelease 0 B/3,626 B 0%] [Wa\r0% [Waiting for headers] [Waiting for headers] [Waiting for headers] [Waiting f\r                                                                               \rGet:2 http://security.ubuntu.com/ubuntu bionic-security InRelease [88.7 kB]\n",
            "\r0% [Waiting for headers] [2 InRelease 14.2 kB/88.7 kB 16%] [Waiting for headers\r0% [1 InRelease gpgv 3,626 B] [Waiting for headers] [2 InRelease 14.2 kB/88.7 k\r                                                                               \rIgn:3 https://developer.download.nvidia.com/compute/cuda/repos/ubuntu1804/x86_64  InRelease\n",
            "\r0% [1 InRelease gpgv 3,626 B] [Waiting for headers] [2 InRelease 14.2 kB/88.7 k\r                                                                               \rHit:4 http://archive.ubuntu.com/ubuntu bionic InRelease\n",
            "\r0% [1 InRelease gpgv 3,626 B] [Waiting for headers] [2 InRelease 66.3 kB/88.7 k\r                                                                               \rGet:5 http://ppa.launchpad.net/c2d4u.team/c2d4u4.0+/ubuntu bionic InRelease [15.9 kB]\n",
            "\r0% [1 InRelease gpgv 3,626 B] [Waiting for headers] [2 InRelease 69.2 kB/88.7 k\r0% [1 InRelease gpgv 3,626 B] [Waiting for headers] [5 InRelease 5,468 B/15.9 k\r                                                                               \rIgn:6 https://developer.download.nvidia.com/compute/machine-learning/repos/ubuntu1804/x86_64  InRelease\n",
            "Get:7 https://developer.download.nvidia.com/compute/cuda/repos/ubuntu1804/x86_64  Release [696 B]\n",
            "Hit:8 https://developer.download.nvidia.com/compute/machine-learning/repos/ubuntu1804/x86_64  Release\n",
            "Get:9 https://developer.download.nvidia.com/compute/cuda/repos/ubuntu1804/x86_64  Release.gpg [836 B]\n",
            "Get:10 http://archive.ubuntu.com/ubuntu bionic-updates InRelease [88.7 kB]\n",
            "Hit:11 http://ppa.launchpad.net/cran/libgit2/ubuntu bionic InRelease\n",
            "Get:12 http://archive.ubuntu.com/ubuntu bionic-backports InRelease [74.6 kB]\n",
            "Hit:13 http://ppa.launchpad.net/deadsnakes/ppa/ubuntu bionic InRelease\n",
            "Hit:14 http://ppa.launchpad.net/graphics-drivers/ppa/ubuntu bionic InRelease\n",
            "Get:15 http://security.ubuntu.com/ubuntu bionic-security/main amd64 Packages [2,430 kB]\n",
            "Get:16 http://security.ubuntu.com/ubuntu bionic-security/universe amd64 Packages [1,442 kB]\n",
            "Get:18 https://developer.download.nvidia.com/compute/cuda/repos/ubuntu1804/x86_64  Packages [828 kB]\n",
            "Get:19 http://ppa.launchpad.net/c2d4u.team/c2d4u4.0+/ubuntu bionic/main Sources [1,813 kB]\n",
            "Get:20 http://archive.ubuntu.com/ubuntu bionic-updates/universe amd64 Packages [2,224 kB]\n",
            "Get:21 http://ppa.launchpad.net/c2d4u.team/c2d4u4.0+/ubuntu bionic/main amd64 Packages [930 kB]\n",
            "Get:22 http://archive.ubuntu.com/ubuntu bionic-updates/main amd64 Packages [2,867 kB]\n",
            "Fetched 12.8 MB in 5s (2,776 kB/s)\n",
            "Reading package lists... Done\n"
          ]
        }
      ]
    },
    {
      "cell_type": "code",
      "metadata": {
        "id": "_xKwTpATHqSe",
        "colab": {
          "base_uri": "https://localhost:8080/"
        },
        "outputId": "12e95c6d-3706-4be0-f43e-77e2b560494e"
      },
      "source": [
        "# Download the Postgres driver that will allow Spark to interact with Postgres.\n",
        "!wget https://jdbc.postgresql.org/download/postgresql-42.2.16.jar"
      ],
      "execution_count": 2,
      "outputs": [
        {
          "output_type": "stream",
          "name": "stdout",
          "text": [
            "--2021-11-29 07:01:45--  https://jdbc.postgresql.org/download/postgresql-42.2.16.jar\n",
            "Resolving jdbc.postgresql.org (jdbc.postgresql.org)... 72.32.157.228, 2001:4800:3e1:1::228\n",
            "Connecting to jdbc.postgresql.org (jdbc.postgresql.org)|72.32.157.228|:443... connected.\n",
            "HTTP request sent, awaiting response... 200 OK\n",
            "Length: 1002883 (979K) [application/java-archive]\n",
            "Saving to: ‘postgresql-42.2.16.jar’\n",
            "\n",
            "postgresql-42.2.16. 100%[===================>] 979.38K  --.-KB/s    in 0.1s    \n",
            "\n",
            "2021-11-29 07:01:45 (6.59 MB/s) - ‘postgresql-42.2.16.jar’ saved [1002883/1002883]\n",
            "\n"
          ]
        }
      ]
    },
    {
      "cell_type": "code",
      "metadata": {
        "id": "TgCxT-9Wf-cv"
      },
      "source": [
        "from pyspark.sql import SparkSession\n",
        "spark = SparkSession.builder.appName(\"M16-Amazon-Challenge\").config(\"spark.driver.extraClassPath\",\"/content/postgresql-42.2.16.jar\").getOrCreate()"
      ],
      "execution_count": 3,
      "outputs": []
    },
    {
      "cell_type": "code",
      "metadata": {
        "colab": {
          "base_uri": "https://localhost:8080/"
        },
        "id": "bnXpDy6KTjPY",
        "outputId": "0eb58879-14eb-44dd-c29f-610dbfa2e2f3"
      },
      "source": [
        "# from amazon read in data from S3 buckets\n",
        "from pyspark import SparkFiles\n",
        "url = \"https://s3.amazonaws.com/amazon-reviews-pds/tsv/amazon_reviews_us_Home_Entertainment_v1_00.tsv.gz\"\n",
        "spark.sparkContext.addFile(url)\n",
        "df = spark.read.option(\"encoding\", \"UTF-8\").csv(SparkFiles.get(\"\"), sep=\"\\t\", header=True, inferSchema=True)\n",
        "df.show()"
      ],
      "execution_count": 4,
      "outputs": [
        {
          "output_type": "stream",
          "name": "stdout",
          "text": [
            "+-----------+-----------+--------------+----------+--------------+--------------------+------------------+-----------+-------------+-----------+----+-----------------+--------------------+--------------------+-----------+\n",
            "|marketplace|customer_id|     review_id|product_id|product_parent|       product_title|  product_category|star_rating|helpful_votes|total_votes|vine|verified_purchase|     review_headline|         review_body|review_date|\n",
            "+-----------+-----------+--------------+----------+--------------+--------------------+------------------+-----------+-------------+-----------+----+-----------------+--------------------+--------------------+-----------+\n",
            "|         US|     179886| RY01SAV7HZ8QO|B00NTI0CQ2|     667358431|Aketek 1080P LED ...|Home Entertainment|          4|            0|          0|   N|                Y|good enough for m...|not the best pict...| 2015-08-31|\n",
            "|         US|   37293769|R1XX8SDGJ4MZ4L|B00BUCLVZU|     621695622|TiVo Mini with IR...|Home Entertainment|          5|            0|          0|   N|                N|Tell the Cable Co...|Not only do my Ti...| 2015-08-31|\n",
            "|         US|    8332121|R149Q3B5L33NN5|B00RBX9D5W|     143071132|Apple TV MD199LL/...|Home Entertainment|          5|            0|          0|   N|                Y|    Works perfectly!|Works perfectly! ...| 2015-08-31|\n",
            "|         US|   47054962|R2ZVD69Z6KPJ4O|B00UJ3IULO|     567816707|New Roku 3 6.5 Fo...|Home Entertainment|          1|            0|          2|   N|                Y|It doesn't work. ...|It doesn't work. ...| 2015-08-31|\n",
            "|         US|   23413911|R1DIKG2G33ZLNP|B0037UCTXG|     909557698|Generic DVI-I Dua...|Home Entertainment|          4|            0|          0|   N|                Y|         As pictured|I received the it...| 2015-08-31|\n",
            "|         US|    4417771|R3L6FGKAW0EYFI|B004N866SU|     414565179|Samsung 3D LED HD...|Home Entertainment|          1|            1|          1|   N|                N|Only lasts 3-4 ye...|I bought this TV ...| 2015-08-31|\n",
            "|         US|   47900707| RAO0QZH5VC6VI|B00JE6AOJS|     798450889|Jiake Wireless Bl...|Home Entertainment|          1|            0|          0|   N|                Y|            One Star|    Waste of $$$$$$$| 2015-08-31|\n",
            "|         US|   34112894|R25IK0UAHWNB22|B00COL0B7A|     777554234|3pcs/lot 3in1 3ft...|Home Entertainment|          3|            0|          0|   N|                Y|         Three Stars|Nice but all thre...| 2015-08-31|\n",
            "|         US|   20691979|R2A9IHKZMTMAL1|B00QHLSKOE|     885228855|Matricom G-Box Q²...|Home Entertainment|          5|            1|          2|   N|                Y|Yes...exactly wha...|Oh, yeah...doesn'...| 2015-08-31|\n",
            "|         US|   25983343| R5XVKTHL6SITI|B00UNL2MUW|     164482798|VIZIO S2920W-C0B ...|Home Entertainment|          5|            0|          0|   N|                Y|Fantastic sound. ...|Fantastic sound. ...| 2015-08-31|\n",
            "|         US|   35816068|R2QZZOSTDDY1IE|B00RIC9JB4|     184834831|Hitachi 49\" Class...|Home Entertainment|          3|            3|          6|   N|                Y|               risky|Great tv but Tv d...| 2015-08-31|\n",
            "|         US|   10628020|R38CUDCFPSNYTD|B00HPMCO6O|     444378461|Sony BDPS5200 3D ...|Home Entertainment|          5|            0|          0|   N|                Y|          Five Stars|EXCELLENT SERVICE...| 2015-08-31|\n",
            "|         US|    9059625| RM6ZR6NH052YH|B004QGXWS6|     770226547|Sylvania 7-Inch T...|Home Entertainment|          3|            1|          2|   N|                Y|They worked great...|They worked great...| 2015-08-31|\n",
            "|         US|    2681147| RUQK5N4WH8UN8|B00FO12XY6|     448806082|Roku HD Streaming...|Home Entertainment|          5|            0|          0|   N|                Y|          Five Stars|Smooth and worked...| 2015-08-31|\n",
            "|         US|   33449922|R21LWSBQWWJYZ3|B00BD7UVO4|     374427271|LG Electronics BP...|Home Entertainment|          5|            0|          0|   N|                Y|          Five Stars|     Works very well| 2015-08-31|\n",
            "|         US|   43069144| R8W5S53RQ2DF7|B00TRQPEYK|     614207013|LG Electronics LF...|Home Entertainment|          5|            0|          0|   N|                Y|               LG TV|The TV arrived qu...| 2015-08-31|\n",
            "|         US|   46780686|R3ENME3JQBWXZS|B005STXQG8|     689442799|SquareTrade TV Pr...|Home Entertainment|          5|            0|          1|   N|                Y|          Five Stars|well worth the mo...| 2015-08-31|\n",
            "|         US|   49037595|R3URL5K7DHHYK7|B00BEL11RA|     910670994|Cambridge - Azur ...|Home Entertainment|          5|            1|          1|   N|                Y|            Love it.|Great Blu-ray pla...| 2015-08-31|\n",
            "|         US|   27868511|R22YISZKS35YZX|B00QHLSKOE|     885228855|Matricom G-Box Q²...|Home Entertainment|          5|            2|          3|   N|                Y|If your on the fe...|Great media cente...| 2015-08-31|\n",
            "|         US|    3004043|R3IIOLWHWC297U|B00MWCJ8VQ|     946374680|Roku 3500XB Strea...|Home Entertainment|          5|            0|          0|   N|                Y|          Five Stars|       great product| 2015-08-31|\n",
            "+-----------+-----------+--------------+----------+--------------+--------------------+------------------+-----------+-------------+-----------+----+-----------------+--------------------+--------------------+-----------+\n",
            "only showing top 20 rows\n",
            "\n"
          ]
        }
      ]
    },
    {
      "cell_type": "code",
      "metadata": {
        "colab": {
          "base_uri": "https://localhost:8080/"
        },
        "id": "nJJaHq_NgIT4",
        "outputId": "85c34ce9-a760-4a49-d6d9-7a9e6b5ecb02"
      },
      "source": [
        "# Filter and create a new DataFrame\n",
        "most_votes = df.filter('total_votes>=20')\n",
        "most_votes.show()"
      ],
      "execution_count": 5,
      "outputs": [
        {
          "output_type": "stream",
          "name": "stdout",
          "text": [
            "+-----------+-----------+--------------+----------+--------------+--------------------+------------------+-----------+-------------+-----------+----+-----------------+--------------------+--------------------+-----------+\n",
            "|marketplace|customer_id|     review_id|product_id|product_parent|       product_title|  product_category|star_rating|helpful_votes|total_votes|vine|verified_purchase|     review_headline|         review_body|review_date|\n",
            "+-----------+-----------+--------------+----------+--------------+--------------------+------------------+-----------+-------------+-----------+----+-----------------+--------------------+--------------------+-----------+\n",
            "|         US|   24284435|R1VCSDR38XTALJ|B00WA42GTC|     464704031|Samsung Blu-ray P...|Home Entertainment|          1|           33|         40|   N|                N|Wouldn't recommen...|This Samsung BD-J...| 2015-08-31|\n",
            "|         US|    5445862|R1KMC6B2JRCZ3D|B00SMBF3NS|     742282603|VIZIO E24-C1 E Se...|Home Entertainment|          3|           42|         47|   N|                N|For those who wil...|As a stand alone ...| 2015-08-31|\n",
            "|         US|   51694196|R1LV778IDGRJQ6|B00T63YMGK|     127288599|Product TitleVIZI...|Home Entertainment|          1|            4|         23|   N|                Y|Do It Yourself Fr...|If you buy this o...| 2015-08-31|\n",
            "|         US|   26295494| RBZE8H6SHVYWW|B00Z0IBCD6|     617888413|Samsung UN40JU640...|Home Entertainment|          3|           77|        110|   N|                N|The UN40J6400   i...|SAMSUNG SERIES 6 ...| 2015-08-31|\n",
            "|         US|   25137129|R2LBEAGVJA7HK1|B00IS4SWFU|     681905492|Incredisonic Vue ...|Home Entertainment|          3|            5|         48|   N|                N|I really want to ...|I requested the I...| 2015-08-31|\n",
            "|         US|   12703303|R3UN4H3BW9YTQA|B00VVOCSOU|     933789462|TCL 32D2700 720p ...|Home Entertainment|          5|          358|        388|   N|                Y|GREAT TV on a bud...|I was lucky enoug...| 2015-08-31|\n",
            "|         US|   51348681| R2YKRQ8R3B2Q3|B00TKPAWFO|     105403000|Samsung HW-J450 2...|Home Entertainment|          5|           30|         35|   N|                N|If it was possibl...|I purchased this ...| 2015-08-31|\n",
            "|         US|   20245477|R1K00VBT0SMD4Z|B00QXS8L6I|      27709442|Cube Projector Pa...|Home Entertainment|          1|           50|         60|   N|                Y|Sad it didn't wor...|a the actual pict...| 2015-08-31|\n",
            "|         US|   19898852|R3QLX5NODD1OJ4|B00WR28THA|     800515806|Samsung JU7500, S...|Home Entertainment|          1|            9|         25|   N|                Y|      broken times 2|The reason is tha...| 2015-08-31|\n",
            "|         US|   52704984|R2SOOHE0XUQON1|B00U9U94KS|     786300160|Samsung J6300, SB...|Home Entertainment|          1|            2|         24|   N|                N|      SCREEN CRACKED|I bought a simila...| 2015-08-30|\n",
            "|         US|   47878111|R2I9AO0VEBYJES|B0122O3940|     500546686|JmGO Smart Home T...|Home Entertainment|          4|           47|         57|   N|                Y|JmGo G1 is Awesom...|Excellent picture...| 2015-08-30|\n",
            "|         US|   46985890|R27EECVZ426CQ5|B00U1394K8|     532761599|PowerLead Ptox P0...|Home Entertainment|          1|            3|         25|   N|                N|      BOGUS!!!!!!!!!|Obviously bogus r...| 2015-08-30|\n",
            "|         US|   52172832|R3Q7YJX1I5PDMU|B00LH1NA62|     557213720|Magnavox Blu-Ray ...|Home Entertainment|          3|           22|         22|   N|                Y|Functional, but y...|This player works...| 2015-08-30|\n",
            "|         US|   13990589| RJQQO26UPW1PI|B00VVOCQHE|     933789462|TCL 32D2700 720p ...|Home Entertainment|          5|           76|         96|   N|                Y|Great image for t...|While there are s...| 2015-08-30|\n",
            "|         US|   51955091|R2QJI05ZY7DNSR|B00Y7XTF2A|     170440763|LG Electronics LE...|Home Entertainment|          4|           59|         73|   N|                N|           LG UF6800|I purchased a Sam...| 2015-08-30|\n",
            "|         US|   53041702|R2MBLFKV5JFTKE|B00UJ3IULO|     567816707|New Roku 3 6.5 Fo...|Home Entertainment|          1|           80|         89|   N|                N|Nightmare Tech Su...|Nightmare from he...| 2015-08-30|\n",
            "|         US|   20725301|R1YYR1SP2TS30L|B00UB9UJFQ|     548886188|TCL 32S3800 32-In...|Home Entertainment|          1|           55|         70|   N|                Y|Still waiting for...|Product defective...| 2015-08-30|\n",
            "|         US|   42601054|R2DYKW0X2B93QG|B00SMBG8QY|     751255029|VIZIO SB3821-C6 3...|Home Entertainment|          2|           50|         63|   N|                Y|Worth the money, ...|This is a cheap s...| 2015-08-30|\n",
            "|         US|   30687736|R14QWM0LJO6313|B00VDWJZ7I|      14931582|Intel Core i3 i3-...|Home Entertainment|          5|           24|         28|   N|                Y|Blew me away with...|This cpu was purc...| 2015-08-30|\n",
            "|         US|   13260189|R19H4AKN005KL8|B00SK6XXUK|     887568334|Streamsmart Smart...|Home Entertainment|          5|           19|         28|   N|                Y|       Great value!!|It is not THE bes...| 2015-08-30|\n",
            "+-----------+-----------+--------------+----------+--------------+--------------------+------------------+-----------+-------------+-----------+----+-----------------+--------------------+--------------------+-----------+\n",
            "only showing top 20 rows\n",
            "\n"
          ]
        }
      ]
    },
    {
      "cell_type": "code",
      "metadata": {
        "colab": {
          "base_uri": "https://localhost:8080/"
        },
        "id": "e9ZDqhvcgURJ",
        "outputId": "c9d10c06-b80d-4c3a-b76e-dfa40e4498ae"
      },
      "source": [
        "# Filter and create a new DataFrame\n",
        "helpful_reviews = most_votes.filter((df['helpful_votes'] / df['total_votes']) >= 0.5)\n",
        "helpful_reviews.show()"
      ],
      "execution_count": 6,
      "outputs": [
        {
          "output_type": "stream",
          "name": "stdout",
          "text": [
            "+-----------+-----------+--------------+----------+--------------+--------------------+------------------+-----------+-------------+-----------+----+-----------------+--------------------+--------------------+-----------+\n",
            "|marketplace|customer_id|     review_id|product_id|product_parent|       product_title|  product_category|star_rating|helpful_votes|total_votes|vine|verified_purchase|     review_headline|         review_body|review_date|\n",
            "+-----------+-----------+--------------+----------+--------------+--------------------+------------------+-----------+-------------+-----------+----+-----------------+--------------------+--------------------+-----------+\n",
            "|         US|   24284435|R1VCSDR38XTALJ|B00WA42GTC|     464704031|Samsung Blu-ray P...|Home Entertainment|          1|           33|         40|   N|                N|Wouldn't recommen...|This Samsung BD-J...| 2015-08-31|\n",
            "|         US|    5445862|R1KMC6B2JRCZ3D|B00SMBF3NS|     742282603|VIZIO E24-C1 E Se...|Home Entertainment|          3|           42|         47|   N|                N|For those who wil...|As a stand alone ...| 2015-08-31|\n",
            "|         US|   26295494| RBZE8H6SHVYWW|B00Z0IBCD6|     617888413|Samsung UN40JU640...|Home Entertainment|          3|           77|        110|   N|                N|The UN40J6400   i...|SAMSUNG SERIES 6 ...| 2015-08-31|\n",
            "|         US|   12703303|R3UN4H3BW9YTQA|B00VVOCSOU|     933789462|TCL 32D2700 720p ...|Home Entertainment|          5|          358|        388|   N|                Y|GREAT TV on a bud...|I was lucky enoug...| 2015-08-31|\n",
            "|         US|   51348681| R2YKRQ8R3B2Q3|B00TKPAWFO|     105403000|Samsung HW-J450 2...|Home Entertainment|          5|           30|         35|   N|                N|If it was possibl...|I purchased this ...| 2015-08-31|\n",
            "|         US|   20245477|R1K00VBT0SMD4Z|B00QXS8L6I|      27709442|Cube Projector Pa...|Home Entertainment|          1|           50|         60|   N|                Y|Sad it didn't wor...|a the actual pict...| 2015-08-31|\n",
            "|         US|   47878111|R2I9AO0VEBYJES|B0122O3940|     500546686|JmGO Smart Home T...|Home Entertainment|          4|           47|         57|   N|                Y|JmGo G1 is Awesom...|Excellent picture...| 2015-08-30|\n",
            "|         US|   52172832|R3Q7YJX1I5PDMU|B00LH1NA62|     557213720|Magnavox Blu-Ray ...|Home Entertainment|          3|           22|         22|   N|                Y|Functional, but y...|This player works...| 2015-08-30|\n",
            "|         US|   13990589| RJQQO26UPW1PI|B00VVOCQHE|     933789462|TCL 32D2700 720p ...|Home Entertainment|          5|           76|         96|   N|                Y|Great image for t...|While there are s...| 2015-08-30|\n",
            "|         US|   51955091|R2QJI05ZY7DNSR|B00Y7XTF2A|     170440763|LG Electronics LE...|Home Entertainment|          4|           59|         73|   N|                N|           LG UF6800|I purchased a Sam...| 2015-08-30|\n",
            "|         US|   53041702|R2MBLFKV5JFTKE|B00UJ3IULO|     567816707|New Roku 3 6.5 Fo...|Home Entertainment|          1|           80|         89|   N|                N|Nightmare Tech Su...|Nightmare from he...| 2015-08-30|\n",
            "|         US|   20725301|R1YYR1SP2TS30L|B00UB9UJFQ|     548886188|TCL 32S3800 32-In...|Home Entertainment|          1|           55|         70|   N|                Y|Still waiting for...|Product defective...| 2015-08-30|\n",
            "|         US|   42601054|R2DYKW0X2B93QG|B00SMBG8QY|     751255029|VIZIO SB3821-C6 3...|Home Entertainment|          2|           50|         63|   N|                Y|Worth the money, ...|This is a cheap s...| 2015-08-30|\n",
            "|         US|   30687736|R14QWM0LJO6313|B00VDWJZ7I|      14931582|Intel Core i3 i3-...|Home Entertainment|          5|           24|         28|   N|                Y|Blew me away with...|This cpu was purc...| 2015-08-30|\n",
            "|         US|   13260189|R19H4AKN005KL8|B00SK6XXUK|     887568334|Streamsmart Smart...|Home Entertainment|          5|           19|         28|   N|                Y|       Great value!!|It is not THE bes...| 2015-08-30|\n",
            "|         US|   10930608|R27MJ6EZADWWPX|B00ZOGUF6E|     234534340|CiBest LED GM60 M...|Home Entertainment|          5|           34|         37|   N|                Y|          Impressed!|I just got it, bu...| 2015-08-30|\n",
            "|         US|   29648162| RXZ3Q8ZGMVQ40|B00SMBFPDG|     680331698|VIZIO 60\" Class (...|Home Entertainment|          1|           19|         30|   N|                Y|New tv worked les...|Received TV on da...| 2015-08-29|\n",
            "|         US|   12508067|R2GFDC3KTYASPJ|B00U9U8RZQ|     851149807|Samsung J5200 Ser...|Home Entertainment|          5|           94|        118|   N|                Y|Excellent TV - Po...|Amazing picture q...| 2015-08-29|\n",
            "|         US|    2336780|R288AJX5OK9K4Q|B00TRQPVKM|     516630089|LG Electronics LF...|Home Entertainment|          1|           46|         63|   N|                Y|   donot buy this tv|What is this man ...| 2015-08-29|\n",
            "|         US|   16010108|R25PC9R5T29WSK|B00SMBFQ7G|     579240906|VIZIO E-Series E5...|Home Entertainment|          5|           21|         23|   N|                Y|Completely satisfied|Packaged extremel...| 2015-08-29|\n",
            "+-----------+-----------+--------------+----------+--------------+--------------------+------------------+-----------+-------------+-----------+----+-----------------+--------------------+--------------------+-----------+\n",
            "only showing top 20 rows\n",
            "\n"
          ]
        }
      ]
    },
    {
      "cell_type": "code",
      "metadata": {
        "colab": {
          "base_uri": "https://localhost:8080/"
        },
        "id": "Io8m8t2jgq9X",
        "outputId": "c1076532-aefa-4d8b-f82e-d18246f3affb"
      },
      "source": [
        "# Create a new DataFrame which retrieves all the rows where a review was written as part of the Vine program \n",
        "vine_reviews = helpful_reviews.filter('vine==\"Y\"')\n",
        "vine_reviews.show()"
      ],
      "execution_count": 7,
      "outputs": [
        {
          "output_type": "stream",
          "name": "stdout",
          "text": [
            "+-----------+-----------+--------------+----------+--------------+--------------------+------------------+-----------+-------------+-----------+----+-----------------+--------------------+--------------------+-----------+\n",
            "|marketplace|customer_id|     review_id|product_id|product_parent|       product_title|  product_category|star_rating|helpful_votes|total_votes|vine|verified_purchase|     review_headline|         review_body|review_date|\n",
            "+-----------+-----------+--------------+----------+--------------+--------------------+------------------+-----------+-------------+-----------+----+-----------------+--------------------+--------------------+-----------+\n",
            "|         US|   51288086|R3LLICBKRHLRJC|B00USEZ7W4|     202667718|Seiki SE32HYT  LE...|Home Entertainment|          4|           17|         22|   Y|                N|Great picture, a ...|Very nice, sharp ...| 2015-08-27|\n",
            "|         US|   50853411| RUD135S06DEVE|B00ZIGRX4W|     471919351|Samsung JS7000, S...|Home Entertainment|          5|           41|         51|   Y|                N|Fantastic out-of-...|I've had this tel...| 2015-08-23|\n",
            "|         US|   52708408|R2WG8UL4SGDPDH|B00TYFCJ8S|     609914359|Sony BDPS3500 - B...|Home Entertainment|          4|           23|         25|   Y|                N|One of the best B...|The Sony BDPS3500...| 2015-08-21|\n",
            "|         US|   49234743|R158AOKOA28WS2|B00ZIGRX4W|     471919351|Samsung JS7000, S...|Home Entertainment|          4|           18|         28|   Y|                N|One Giant Step in...|I chose a 5 star ...| 2015-08-21|\n",
            "|         US|   51367435| RGWV3QLJQXU9X|B00U9U8RZQ|     851149807|Samsung J5200 Ser...|Home Entertainment|          5|          332|        380|   Y|                N|Excellent quality...|This TV is very l...| 2015-08-21|\n",
            "|         US|   51720265| RD0E1RZSSYGGN|B00ZIGRX4W|     471919351|Samsung JS7000, S...|Home Entertainment|          5|          261|        292|   Y|                N|Price, functional...|With the release ...| 2015-08-17|\n",
            "|         US|   43748492|R3LGCTQH5ZMGO0|B00TKOSUDQ|     793868244|Samsung BD-J5700 ...|Home Entertainment|          5|           61|         68|   Y|                N|BD-J5700 vs. BD-F...|This is more of a...| 2015-08-02|\n",
            "|         US|   17957446|R2H24YTRLARCZJ|B00TKOSUDQ|     793868244|Samsung BD-J5700 ...|Home Entertainment|          4|          277|        297|   Y|                N|Solid Blu-Ray, Go...|The Samsung BD-J5...| 2015-07-27|\n",
            "|         US|   52594065| RYYTC9JTG7WPW|B00U9U8RZQ|     851149807|Samsung J5200 Ser...|Home Entertainment|          5|          107|        134|   Y|                N|Samsung 32-inch s...|I got this TV for...| 2015-07-26|\n",
            "|         US|   53035876| RTB8H4YQYTLY3|B00TIAXRS0|     965387301|LG Electronics BP...|Home Entertainment|          4|           58|         62|   Y|                N|A Very Pleasant S...|I have to admit t...| 2015-07-22|\n",
            "|         US|   51871879| RMQYIMBVK7T8R|B00U9U8RZQ|     851149807|Samsung J5200 Ser...|Home Entertainment|          5|           29|         36|   Y|                N|Wonderful set for...|This television i...| 2015-07-16|\n",
            "|         US|   51014481| R9KIBRBGB1M6W|B00U9U8RZQ|     851149807|Samsung J5200 Ser...|Home Entertainment|          5|           26|         33|   Y|                N|         We love it!|YAY!  We have nev...| 2015-07-16|\n",
            "|         US|   37213020|R122J9QGFCZTR0|B00JT14LAQ|     313477489|Panasonic SC-HC27...|Home Entertainment|          5|          324|        342|   Y|                N|Great device in i...|[[VIDEOID:459c36f...| 2015-07-14|\n",
            "|         US|   20473938|R2QIEBCHDXA2CW|B00USEZBQG|      83494932|Seiki SE50FY 50-I...|Home Entertainment|          4|           55|         64|   Y|                N|  LOW BUDGET BARGAIN|This Seiki 50&#34...| 2015-07-13|\n",
            "|         US|   50727243|R1KG6E0W0Q5YCQ|B00U9U9002|     929833728|Samsung JS8500, S...|Home Entertainment|          5|           27|         32|   Y|                N|Outstanding Telev...|First things firs...| 2015-07-13|\n",
            "|         US|   11169499|R3B6CGFNVWRWJ0|B00USEZBQG|      83494932|Seiki SE50FY 50-I...|Home Entertainment|          5|           15|         23|   Y|                N|Best Of The Non S...|The Seiki 50 inch...| 2015-07-11|\n",
            "|         US|   21155796| RR66J5S5D8ZUP|B00USEZBQG|      83494932|Seiki SE50FY 50-I...|Home Entertainment|          5|           25|         33|   Y|                N|Great picture and...|For the price, th...| 2015-07-09|\n",
            "|         US|   49129501|R3UC7TCOGT73CJ|B00TKOSUDQ|     793868244|Samsung BD-J5700 ...|Home Entertainment|          3|           33|         41|   Y|                N|Apps Are Disappoi...|The Blu-ray playe...| 2015-07-04|\n",
            "|         US|   33107350| R32UKGZUYVA2S|B00U9U9002|     929833728|Samsung JS8500, S...|Home Entertainment|          2|           64|         77|   Y|                N|Samsung makes nic...|If this review co...| 2015-07-04|\n",
            "|         US|   52846213|R1G2OXP36OPF40|B00TIAXRS0|     965387301|LG Electronics BP...|Home Entertainment|          5|           20|         22|   Y|                N|2015 Model - Smoo...|~  Please note th...| 2015-06-23|\n",
            "+-----------+-----------+--------------+----------+--------------+--------------------+------------------+-----------+-------------+-----------+----+-----------------+--------------------+--------------------+-----------+\n",
            "only showing top 20 rows\n",
            "\n"
          ]
        }
      ]
    },
    {
      "cell_type": "code",
      "metadata": {
        "colab": {
          "base_uri": "https://localhost:8080/"
        },
        "id": "OS-83isjhFCK",
        "outputId": "6215a2b8-5a96-467f-ea24-691595909db5"
      },
      "source": [
        "# Create a new DataFrame which retrieves all the rows where a review was written as part of the Vine program \n",
        "non_vine_reviews = helpful_reviews.filter('vine==\"N\"')\n",
        "vine_reviews.show()"
      ],
      "execution_count": 8,
      "outputs": [
        {
          "output_type": "stream",
          "name": "stdout",
          "text": [
            "+-----------+-----------+--------------+----------+--------------+--------------------+------------------+-----------+-------------+-----------+----+-----------------+--------------------+--------------------+-----------+\n",
            "|marketplace|customer_id|     review_id|product_id|product_parent|       product_title|  product_category|star_rating|helpful_votes|total_votes|vine|verified_purchase|     review_headline|         review_body|review_date|\n",
            "+-----------+-----------+--------------+----------+--------------+--------------------+------------------+-----------+-------------+-----------+----+-----------------+--------------------+--------------------+-----------+\n",
            "|         US|   51288086|R3LLICBKRHLRJC|B00USEZ7W4|     202667718|Seiki SE32HYT  LE...|Home Entertainment|          4|           17|         22|   Y|                N|Great picture, a ...|Very nice, sharp ...| 2015-08-27|\n",
            "|         US|   50853411| RUD135S06DEVE|B00ZIGRX4W|     471919351|Samsung JS7000, S...|Home Entertainment|          5|           41|         51|   Y|                N|Fantastic out-of-...|I've had this tel...| 2015-08-23|\n",
            "|         US|   52708408|R2WG8UL4SGDPDH|B00TYFCJ8S|     609914359|Sony BDPS3500 - B...|Home Entertainment|          4|           23|         25|   Y|                N|One of the best B...|The Sony BDPS3500...| 2015-08-21|\n",
            "|         US|   49234743|R158AOKOA28WS2|B00ZIGRX4W|     471919351|Samsung JS7000, S...|Home Entertainment|          4|           18|         28|   Y|                N|One Giant Step in...|I chose a 5 star ...| 2015-08-21|\n",
            "|         US|   51367435| RGWV3QLJQXU9X|B00U9U8RZQ|     851149807|Samsung J5200 Ser...|Home Entertainment|          5|          332|        380|   Y|                N|Excellent quality...|This TV is very l...| 2015-08-21|\n",
            "|         US|   51720265| RD0E1RZSSYGGN|B00ZIGRX4W|     471919351|Samsung JS7000, S...|Home Entertainment|          5|          261|        292|   Y|                N|Price, functional...|With the release ...| 2015-08-17|\n",
            "|         US|   43748492|R3LGCTQH5ZMGO0|B00TKOSUDQ|     793868244|Samsung BD-J5700 ...|Home Entertainment|          5|           61|         68|   Y|                N|BD-J5700 vs. BD-F...|This is more of a...| 2015-08-02|\n",
            "|         US|   17957446|R2H24YTRLARCZJ|B00TKOSUDQ|     793868244|Samsung BD-J5700 ...|Home Entertainment|          4|          277|        297|   Y|                N|Solid Blu-Ray, Go...|The Samsung BD-J5...| 2015-07-27|\n",
            "|         US|   52594065| RYYTC9JTG7WPW|B00U9U8RZQ|     851149807|Samsung J5200 Ser...|Home Entertainment|          5|          107|        134|   Y|                N|Samsung 32-inch s...|I got this TV for...| 2015-07-26|\n",
            "|         US|   53035876| RTB8H4YQYTLY3|B00TIAXRS0|     965387301|LG Electronics BP...|Home Entertainment|          4|           58|         62|   Y|                N|A Very Pleasant S...|I have to admit t...| 2015-07-22|\n",
            "|         US|   51871879| RMQYIMBVK7T8R|B00U9U8RZQ|     851149807|Samsung J5200 Ser...|Home Entertainment|          5|           29|         36|   Y|                N|Wonderful set for...|This television i...| 2015-07-16|\n",
            "|         US|   51014481| R9KIBRBGB1M6W|B00U9U8RZQ|     851149807|Samsung J5200 Ser...|Home Entertainment|          5|           26|         33|   Y|                N|         We love it!|YAY!  We have nev...| 2015-07-16|\n",
            "|         US|   37213020|R122J9QGFCZTR0|B00JT14LAQ|     313477489|Panasonic SC-HC27...|Home Entertainment|          5|          324|        342|   Y|                N|Great device in i...|[[VIDEOID:459c36f...| 2015-07-14|\n",
            "|         US|   20473938|R2QIEBCHDXA2CW|B00USEZBQG|      83494932|Seiki SE50FY 50-I...|Home Entertainment|          4|           55|         64|   Y|                N|  LOW BUDGET BARGAIN|This Seiki 50&#34...| 2015-07-13|\n",
            "|         US|   50727243|R1KG6E0W0Q5YCQ|B00U9U9002|     929833728|Samsung JS8500, S...|Home Entertainment|          5|           27|         32|   Y|                N|Outstanding Telev...|First things firs...| 2015-07-13|\n",
            "|         US|   11169499|R3B6CGFNVWRWJ0|B00USEZBQG|      83494932|Seiki SE50FY 50-I...|Home Entertainment|          5|           15|         23|   Y|                N|Best Of The Non S...|The Seiki 50 inch...| 2015-07-11|\n",
            "|         US|   21155796| RR66J5S5D8ZUP|B00USEZBQG|      83494932|Seiki SE50FY 50-I...|Home Entertainment|          5|           25|         33|   Y|                N|Great picture and...|For the price, th...| 2015-07-09|\n",
            "|         US|   49129501|R3UC7TCOGT73CJ|B00TKOSUDQ|     793868244|Samsung BD-J5700 ...|Home Entertainment|          3|           33|         41|   Y|                N|Apps Are Disappoi...|The Blu-ray playe...| 2015-07-04|\n",
            "|         US|   33107350| R32UKGZUYVA2S|B00U9U9002|     929833728|Samsung JS8500, S...|Home Entertainment|          2|           64|         77|   Y|                N|Samsung makes nic...|If this review co...| 2015-07-04|\n",
            "|         US|   52846213|R1G2OXP36OPF40|B00TIAXRS0|     965387301|LG Electronics BP...|Home Entertainment|          5|           20|         22|   Y|                N|2015 Model - Smoo...|~  Please note th...| 2015-06-23|\n",
            "+-----------+-----------+--------------+----------+--------------+--------------------+------------------+-----------+-------------+-----------+----+-----------------+--------------------+--------------------+-----------+\n",
            "only showing top 20 rows\n",
            "\n"
          ]
        }
      ]
    },
    {
      "cell_type": "code",
      "metadata": {
        "colab": {
          "base_uri": "https://localhost:8080/"
        },
        "id": "5i2PLnW_hRCN",
        "outputId": "1c99f5ff-98f8-4034-e908-3bdcd2e84e93"
      },
      "source": [
        "# Determine the total number of vine reviews\n",
        "vine_reviews = df.filter('vine==\"Y\"').count()\n",
        "vine_reviews"
      ],
      "execution_count": 14,
      "outputs": [
        {
          "output_type": "execute_result",
          "data": {
            "text/plain": [
              "2106"
            ]
          },
          "metadata": {},
          "execution_count": 14
        }
      ]
    },
    {
      "cell_type": "code",
      "metadata": {
        "colab": {
          "base_uri": "https://localhost:8080/"
        },
        "id": "6kFzffbAhgXI",
        "outputId": "2b1aebf6-0a2a-4ffe-a114-21d6618b2f0b"
      },
      "source": [
        "# Determine the total number of non vine reviews\n",
        "not_vine_reviews = df.filter('vine==\"N\"').count()\n",
        "not_vine_reviews"
      ],
      "execution_count": 15,
      "outputs": [
        {
          "output_type": "execute_result",
          "data": {
            "text/plain": [
              "703783"
            ]
          },
          "metadata": {},
          "execution_count": 15
        }
      ]
    },
    {
      "cell_type": "code",
      "metadata": {
        "colab": {
          "base_uri": "https://localhost:8080/"
        },
        "id": "uk27QuglhinU",
        "outputId": "541f0a02-61d1-4a4d-e27f-d08a2f70e152"
      },
      "source": [
        "# Determine the number of 5-star vine reviews \n",
        "vine_five_star = df.filter('vine==\"Y\"').filter('star_rating==5').count()\n",
        "vine_five_star"
      ],
      "execution_count": 17,
      "outputs": [
        {
          "output_type": "execute_result",
          "data": {
            "text/plain": [
              "854"
            ]
          },
          "metadata": {},
          "execution_count": 17
        }
      ]
    },
    {
      "cell_type": "code",
      "metadata": {
        "colab": {
          "base_uri": "https://localhost:8080/"
        },
        "id": "AYvFc5cthkdt",
        "outputId": "86a000db-5cfe-42b3-b1b0-209faad4b529"
      },
      "source": [
        "# Determine the number of 5-star non vine reviews \n",
        "not_vine_five_star = df.filter('vine==\"N\"').filter('star_rating==5').count()\n",
        "not_vine_five_star"
      ],
      "execution_count": 18,
      "outputs": [
        {
          "output_type": "execute_result",
          "data": {
            "text/plain": [
              "373134"
            ]
          },
          "metadata": {},
          "execution_count": 18
        }
      ]
    },
    {
      "cell_type": "code",
      "metadata": {
        "colab": {
          "base_uri": "https://localhost:8080/"
        },
        "id": "23vixkuBiMim",
        "outputId": "88e5619b-893d-4959-f0ac-6f27b4e2526e"
      },
      "source": [
        "# Determine the percentage of 5-star reviews for vine reviews\n",
        "vine_percent = df.filter('vine==\"Y\"').filter('star_rating==5').count() / df.filter('vine==\"Y\"').count()\n",
        "vine_percent"
      ],
      "execution_count": 19,
      "outputs": [
        {
          "output_type": "execute_result",
          "data": {
            "text/plain": [
              "0.40550807217473883"
            ]
          },
          "metadata": {},
          "execution_count": 19
        }
      ]
    },
    {
      "cell_type": "code",
      "metadata": {
        "colab": {
          "base_uri": "https://localhost:8080/"
        },
        "id": "j6Hqpji7ic9z",
        "outputId": "67d4aa1d-6028-4820-b8f6-a9acaf3a3e91"
      },
      "source": [
        "# Determine the percentage of 5-star reviews for non vine reviews\n",
        "not_vine_percent = df.filter('vine==\"N\"').filter('star_rating==5').count() / df.filter('vine==\"N\"').count()\n",
        "not_vine_percent"
      ],
      "execution_count": 20,
      "outputs": [
        {
          "output_type": "execute_result",
          "data": {
            "text/plain": [
              "0.5301833093439313"
            ]
          },
          "metadata": {},
          "execution_count": 20
        }
      ]
    },
    {
      "cell_type": "code",
      "metadata": {
        "id": "xnegDFFAiNDj"
      },
      "source": [
        ""
      ],
      "execution_count": null,
      "outputs": []
    }
  ]
}